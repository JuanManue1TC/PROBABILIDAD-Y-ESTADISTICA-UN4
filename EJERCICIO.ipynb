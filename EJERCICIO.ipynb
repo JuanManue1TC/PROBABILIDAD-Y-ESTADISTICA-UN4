{
  "nbformat": 4,
  "nbformat_minor": 0,
  "metadata": {
    "colab": {
      "provenance": [],
      "authorship_tag": "ABX9TyO703Bt+G36Iynmu3Su+fNx",
      "include_colab_link": true
    },
    "kernelspec": {
      "name": "python3",
      "display_name": "Python 3"
    },
    "language_info": {
      "name": "python"
    }
  },
  "cells": [
    {
      "cell_type": "markdown",
      "metadata": {
        "id": "view-in-github",
        "colab_type": "text"
      },
      "source": [
        "<a href=\"https://colab.research.google.com/github/JuanManue1TC/PROBABILIDAD-Y-ESTADISTICA-UN4/blob/main/EJERCICIO.ipynb\" target=\"_parent\"><img src=\"https://colab.research.google.com/assets/colab-badge.svg\" alt=\"Open In Colab\"/></a>"
      ]
    },
    {
      "cell_type": "code",
      "execution_count": 1,
      "metadata": {
        "colab": {
          "base_uri": "https://localhost:8080/"
        },
        "id": "kr1dIBPZ2Lbo",
        "outputId": "eccaff59-5eb1-4c88-aff1-507061d0c567"
      },
      "outputs": [
        {
          "output_type": "stream",
          "name": "stdout",
          "text": [
            "Valor z inferior (68 kg): -0.5\n",
            "Valor z superior (72 kg): 0.5\n",
            "Probabilidad acumulada para z = -0.5: 0.3085375387259869\n",
            "Probabilidad acumulada para z = 0.5: 0.6914624612740131\n",
            "\n",
            "La probabilidad de que un estudiante pese entre 68 y 72 kg es: 0.3829\n",
            "\n",
            "El número de estudiantes que pesan entre 68 y 72 kg es aproximadamente: 191\n"
          ]
        }
      ],
      "source": [
        "import math\n",
        "from scipy.stats import norm\n",
        "\n",
        "# Datos del problema\n",
        "media = 70\n",
        "desviacion_estandar = 4\n",
        "n_estudiantes = 500\n",
        "\n",
        "# 1. Probabilidad de estudiantes que pesan más de 68 y menos de 72 kg.\n",
        "\n",
        "# Calcular los valores z para los límites\n",
        "z_inferior = (68 - media) / desviacion_estandar\n",
        "z_superior = (72 - media) / desviacion_estandar\n",
        "\n",
        "print(f\"Valor z inferior (68 kg): {z_inferior}\")\n",
        "print(f\"Valor z superior (72 kg): {z_superior}\")\n",
        "\n",
        "# Calcular la probabilidad acumulada para cada valor z\n",
        "prob_acum_inferior = norm.cdf(z_inferior)\n",
        "prob_acum_superior = norm.cdf(z_superior)\n",
        "\n",
        "print(f\"Probabilidad acumulada para z = {z_inferior}: {prob_acum_inferior}\")\n",
        "print(f\"Probabilidad acumulada para z = {z_superior}: {prob_acum_superior}\")\n",
        "\n",
        "# La probabilidad de estar entre 68 y 72 kg es la diferencia entre las probabilidades acumuladas\n",
        "probabilidad_entre = prob_acum_superior - prob_acum_inferior\n",
        "\n",
        "print(f\"\\nLa probabilidad de que un estudiante pese entre 68 y 72 kg es: {probabilidad_entre:.4f}\")\n",
        "\n",
        "# 2. Cuantos estudiantes pesan más de 68 y menos de 72 kg.\n",
        "\n",
        "# El número de estudiantes en este rango se calcula multiplicando la probabilidad por el número total de estudiantes\n",
        "num_estudiantes_entre = probabilidad_entre * n_estudiantes\n",
        "\n",
        "print(f\"\\nEl número de estudiantes que pesan entre 68 y 72 kg es aproximadamente: {int(num_estudiantes_entre)}\")\n",
        ""
      ]
    }
  ]
}